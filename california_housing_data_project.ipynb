{
  "nbformat": 4,
  "nbformat_minor": 0,
  "metadata": {
    "colab": {
      "private_outputs": true,
      "provenance": []
    },
    "kernelspec": {
      "name": "python3",
      "display_name": "Python 3"
    },
    "language_info": {
      "name": "python"
    }
  },
  "cells": [
    {
      "cell_type": "code",
      "execution_count": null,
      "metadata": {
        "id": "wwv0h3oeR_dW"
      },
      "outputs": [],
      "source": [
        " import pandas as pd\n",
        " import numpy as np\n",
        " import matplotlib.pyplot as plt"
      ]
    },
    {
      "cell_type": "code",
      "source": [
        "house = pd.read_csv('housing.csv')"
      ],
      "metadata": {
        "id": "SuxdvkhbSQQN"
      },
      "execution_count": null,
      "outputs": []
    },
    {
      "cell_type": "code",
      "source": [
        "house"
      ],
      "metadata": {
        "id": "QBNADimLbML8"
      },
      "execution_count": null,
      "outputs": []
    },
    {
      "cell_type": "code",
      "source": [
        "house.info()\n"
      ],
      "metadata": {
        "id": "RDq5-VZ3TEln"
      },
      "execution_count": null,
      "outputs": []
    },
    {
      "cell_type": "code",
      "source": [
        "house.dropna(inplace=True)"
      ],
      "metadata": {
        "id": "bIXsP5DxtdR_"
      },
      "execution_count": null,
      "outputs": []
    },
    {
      "cell_type": "code",
      "source": [
        "house.info()"
      ],
      "metadata": {
        "id": "Iw-sRcJ5tqeK"
      },
      "execution_count": null,
      "outputs": []
    },
    {
      "cell_type": "code",
      "source": [
        "house[\"ocean_proximity\"].value_counts()"
      ],
      "metadata": {
        "id": "pAyxxqJIVFd4"
      },
      "execution_count": null,
      "outputs": []
    },
    {
      "cell_type": "code",
      "source": [
        "house.describe()"
      ],
      "metadata": {
        "id": "Njng8JiLcEPf"
      },
      "execution_count": null,
      "outputs": []
    },
    {
      "cell_type": "code",
      "source": [
        "from sklearn.model_selection import train_test_split\n",
        "\n",
        "x = house.drop(['median_house_value'],axis=1)\n",
        "y=house ['median_house_value']"
      ],
      "metadata": {
        "id": "jq2pjDIH-Y3p"
      },
      "execution_count": null,
      "outputs": []
    },
    {
      "cell_type": "code",
      "source": [
        "X_train,X_test,y_train,y_test = train_test_split(x,y, test_size=0.2)"
      ],
      "metadata": {
        "id": "M2W3FGMe-Eeh"
      },
      "execution_count": null,
      "outputs": []
    },
    {
      "cell_type": "code",
      "source": [
        "train_data = X_train.join(y_train)"
      ],
      "metadata": {
        "id": "uB3xKayR9_DN"
      },
      "execution_count": null,
      "outputs": []
    },
    {
      "cell_type": "code",
      "source": [
        "house.hist(bins=50,figsize=(13,7))"
      ],
      "metadata": {
        "id": "BI7qZWVNcEKc"
      },
      "execution_count": null,
      "outputs": []
    },
    {
      "cell_type": "code",
      "source": [
        "house.plot(kind=\"scatter\",x=\"longitude\",y=\"latitude\",alpha=0.3,\n",
        "           s=house[\"population\"]/100, label=\"population\",\n",
        "           c=\"median_house_value\",cmap=plt.get_cmap(\"jet\"))"
      ],
      "metadata": {
        "id": "o62EsV4CcEJL"
      },
      "execution_count": null,
      "outputs": []
    },
    {
      "cell_type": "code",
      "source": [
        " import seaborn as sns\n",
        " plt.figure(figsize=(15,9))\n",
        "sns.heatmap(train_data.corr(),annot=True,cmap=\"YlGnBu\")"
      ],
      "metadata": {
        "id": "6QPujDdZ9f9M"
      },
      "execution_count": null,
      "outputs": []
    },
    {
      "cell_type": "markdown",
      "source": [
        "**Correlation**"
      ],
      "metadata": {
        "id": "ztP1vj2Tk3rQ"
      }
    },
    {
      "cell_type": "code",
      "source": [
        "house.corr()"
      ],
      "metadata": {
        "id": "UHN7XUi2cEFS"
      },
      "execution_count": null,
      "outputs": []
    },
    {
      "cell_type": "code",
      "source": [
        "corr_matrix=house.corr()\n",
        "corr_matrix[\"median_house_value\"].sort_values(ascending=False)"
      ],
      "metadata": {
        "id": "pa6QTuBLlF9J"
      },
      "execution_count": null,
      "outputs": []
    },
    {
      "cell_type": "code",
      "source": [
        "housing_na=house.dropna(subset=[\"total_bedrooms\"])\n",
        "housing_na.shape"
      ],
      "metadata": {
        "id": "N0i19Jw-lF-V"
      },
      "execution_count": null,
      "outputs": []
    },
    {
      "cell_type": "code",
      "source": [
        "house[\"ocean_proximity\"].value_counts()"
      ],
      "metadata": {
        "id": "PB_UdwtBlGDu"
      },
      "execution_count": null,
      "outputs": []
    },
    {
      "cell_type": "code",
      "source": [
        "dummies=pd.get_dummies(housing_na.ocean_proximity)\n",
        "dummies"
      ],
      "metadata": {
        "id": "gPnJtKpGRoxs"
      },
      "execution_count": null,
      "outputs": []
    },
    {
      "cell_type": "code",
      "source": [
        "housing_na_dummies=pd.concat([housing_na, dummies], axis='columns')"
      ],
      "metadata": {
        "id": "QQ3VSHMHRozg"
      },
      "execution_count": null,
      "outputs": []
    },
    {
      "cell_type": "code",
      "source": [
        "housing_clean=housing_na_dummies.drop(['ocean_proximity','ISLAND'],axis='columns')\n",
        "housing_clean.head()"
      ],
      "metadata": {
        "id": "nz7_IMKuSUSx"
      },
      "execution_count": null,
      "outputs": []
    },
    {
      "cell_type": "code",
      "source": [
        " #creating feature and label dataset\n",
        " X=housing_clean.drop(columns=['median_house_value'])\n",
        " y=housing_clean['median_house_value']\n",
        " y.head()"
      ],
      "metadata": {
        "id": "popteqA8SUWK"
      },
      "execution_count": null,
      "outputs": []
    },
    {
      "cell_type": "code",
      "source": [
        "from sklearn.model_selection import train_test_split\n",
        "X_train, X_test, y_train, y_test = train_test_split(X,y, test_size=0.2, random_state=1984)"
      ],
      "metadata": {
        "id": "rZwu_1hmSUXj"
      },
      "execution_count": null,
      "outputs": []
    },
    {
      "cell_type": "code",
      "source": [
        "#import  olx regression\n",
        "from sklearn.linear_model import LinearRegression\n",
        "OLS = LinearRegression()\n",
        "OLS.fit(X_train,y_train)"
      ],
      "metadata": {
        "id": "ZIAFpo9GSUaL"
      },
      "execution_count": null,
      "outputs": []
    },
    {
      "cell_type": "code",
      "source": [
        "#display the intercept and coefficient of the OLS model\n",
        "print (\"intercept is \"+ str(OLS.intercept_))\n",
        "print(\"The set of coefficient are \"+str(OLS.coef_))\n",
        "print(\"The R-Squared value is \"+str(OLS.score(X_train, y_train)))"
      ],
      "metadata": {
        "id": "03eMN7KKcEEK"
      },
      "execution_count": null,
      "outputs": []
    },
    {
      "cell_type": "code",
      "source": [
        "# predicting with OLS\n",
        "y_pred=OLS.predict(X_test)\n",
        "performance=pd.DataFrame({'PREDICTIONS':y_pred,'ACTUAL VALUE':y_test})\n",
        "performance['error']=performance['ACTUAL VALUE']-performance['PREDICTIONS']\n",
        "performance.head()"
      ],
      "metadata": {
        "id": "-9zO2qoQrfab"
      },
      "execution_count": null,
      "outputs": []
    },
    {
      "cell_type": "code",
      "source": [
        "#PREPARING DATA FOR PLOTTING\n",
        "performance.reset_index(drop=True,inplace=True)\n",
        "performance.reset_index(inplace=True)\n",
        "performance.head()"
      ],
      "metadata": {
        "id": "RWs2T3sQrfbt"
      },
      "execution_count": null,
      "outputs": []
    },
    {
      "cell_type": "code",
      "source": [
        "#plot the residuals\n",
        "fig = plt.figure(figsize=(10,5))\n",
        "plt.bar('index','error', data=performance[:50], color='black', width=0.3)\n",
        "plt.xlabel(\"Observations\")\n",
        "plt.ylabel(\"Residuals\")\n",
        "plt.show()"
      ],
      "metadata": {
        "id": "8ZSeoifMrffE"
      },
      "execution_count": null,
      "outputs": []
    },
    {
      "cell_type": "code",
      "source": [
        "from sklearn.model_selection import train_test_split\n",
        "\n",
        "X_train, X_test, y_train, y_test = train_test_split(X, y, test_size=0.2, random_state=42)\n"
      ],
      "metadata": {
        "id": "bs4oyWG_DaFY"
      },
      "execution_count": null,
      "outputs": []
    },
    {
      "cell_type": "code",
      "source": [
        "from sklearn.ensemble import RandomForestRegressor\n",
        "\n",
        "forest = RandomForestRegressor()\n",
        "forest.fit(X_train, y_train)\n",
        "\n",
        "# Use X_test to evaluate the model\n",
        "predictions = forest.predict(X_test)\n"
      ],
      "metadata": {
        "id": "ZfcD936orflj"
      },
      "execution_count": null,
      "outputs": []
    },
    {
      "cell_type": "code",
      "source": [
        "from sklearn.metrics import mean_absolute_error, mean_squared_error, r2_score\n",
        "\n",
        "# Evaluate the model\n",
        "mae = mean_absolute_error(y_test, predictions)\n",
        "mse = mean_squared_error(y_test, predictions)\n",
        "r2 = r2_score(y_test, predictions)\n",
        "\n",
        "print(f'Mean Absolute Error: {mae}')\n",
        "print(f'Mean Squared Error: {mse}')\n",
        "print(f'R-squared: {r2}')\n"
      ],
      "metadata": {
        "id": "YmM73Fv3ENwc"
      },
      "execution_count": null,
      "outputs": []
    },
    {
      "cell_type": "code",
      "source": [
        "#visualize the predicted value\n",
        "plt.scatter(y_test, predictions)\n",
        "plt.xlabel('True Values')\n",
        "plt.ylabel('Predictions')\n",
        "plt.show()"
      ],
      "metadata": {
        "id": "ECeVeiaWE8bA"
      },
      "execution_count": null,
      "outputs": []
    },
    {
      "cell_type": "code",
      "source": [
        "#understanding which feature is most important in my prediction\n",
        "feature_importances = forest.feature_importances_\n",
        "print(\"Feature Importances:\")\n",
        "for feature, importance in zip(X.columns, feature_importances):\n",
        "    print(f\"{feature}: {importance}\")\n"
      ],
      "metadata": {
        "id": "NSiEAqWlFLh2"
      },
      "execution_count": null,
      "outputs": []
    },
    {
      "cell_type": "code",
      "source": [],
      "metadata": {
        "id": "qivo5MKKFlge"
      },
      "execution_count": null,
      "outputs": []
    }
  ]
}